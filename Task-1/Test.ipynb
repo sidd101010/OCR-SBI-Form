{
 "cells": [
  {
   "cell_type": "code",
   "execution_count": 1,
   "metadata": {},
   "outputs": [],
   "source": [
    "import numpy as np\n",
    "import cv2\n",
    "import pytesseract"
   ]
  },
  {
   "cell_type": "code",
   "execution_count": 12,
   "metadata": {},
   "outputs": [],
   "source": [
    "pytesseract.pytesseract.tesseract_cmd = 'C:/Program Files (x86)/Tesseract-OCR/tesseract.exe'\n",
    "img=cv2.imread(\"WhatsApp Image 2021-01-01 at 11.32.14 PM.jpeg\",1)\n",
    "\n",
    "img=cv2.cvtColor(img,cv2.COLOR_BGR2RGB)\n",
    "#print(pytesseract.image_to_string(img))\n",
    "#Detecting the Character\n",
    "#print(pytesseract.image_to_boxes(img))\n",
    "#config=\"--psm 3\"\n",
    "config=\"--oem 3 --psm 6 outputbased digits \"\n",
    "Height,Width,_=img.shape\n",
    "boxes=pytesseract.image_to_boxes(img,config=config)\n",
    "for i in boxes.splitlines():\n",
    "    #print(i)\n",
    "    i=i.split(' ')\n",
    "    #print(i)\n",
    "    x,y,w,h=int(i[1]),int(i[2]),int(i[3]),int(i[4])\n",
    "    cv2.rectangle(img,(x,Height-y),(w,Height-h),(0,0,255),1)\n",
    "\n",
    "cv2.imshow('Task',img)\n",
    "cv2.waitKey(5000)\n",
    "cv2.destroyAllWindows()"
   ]
  },
  {
   "cell_type": "code",
   "execution_count": null,
   "metadata": {},
   "outputs": [],
   "source": []
  },
  {
   "cell_type": "code",
   "execution_count": null,
   "metadata": {},
   "outputs": [],
   "source": []
  }
 ],
 "metadata": {
  "kernelspec": {
   "display_name": "Python 3",
   "language": "python",
   "name": "python3"
  },
  "language_info": {
   "codemirror_mode": {
    "name": "ipython",
    "version": 3
   },
   "file_extension": ".py",
   "mimetype": "text/x-python",
   "name": "python",
   "nbconvert_exporter": "python",
   "pygments_lexer": "ipython3",
   "version": "3.7.3"
  }
 },
 "nbformat": 4,
 "nbformat_minor": 4
}
